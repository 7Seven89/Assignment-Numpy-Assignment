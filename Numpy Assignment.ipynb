{
 "cells": [
  {
   "cell_type": "code",
   "execution_count": 2,
   "id": "c4b2a862-7785-475e-8a85-fb7a822ad426",
   "metadata": {},
   "outputs": [],
   "source": [
    "import numpy as np\n",
    "list_ = [ '1' , '2' , '3' , '4' , '5' ]\n",
    "array_list = np.array(object = list_)"
   ]
  },
  {
   "cell_type": "markdown",
   "id": "6329e588-bb8b-4c95-a29e-835eb1949f86",
   "metadata": {},
   "source": [
    "**Q1. Is there any difference in the data type of variables list_ and array_list? If there is then write a code\n",
    "to print the data types of both the variables.**\n",
    "\n",
    "A1.\n",
    "\n",
    "Yes, there is a difference in the data types of the variables list and array_list.\n",
    "\n",
    "- list_: This is a Python list containing string elements.\n",
    "- array_list: This is a NumPy array created from the list_. Since the list_ contains strings, the array_list will also have a data type of str."
   ]
  },
  {
   "cell_type": "code",
   "execution_count": 7,
   "id": "fa3c365d-8435-4eb4-8d63-b3bd5ff06c16",
   "metadata": {},
   "outputs": [
    {
     "name": "stdout",
     "output_type": "stream",
     "text": [
      "Data type of list_: <class 'list'>\n",
      "Data type of array_list: <U1\n"
     ]
    }
   ],
   "source": [
    "list_ = ['1', '2', '3', '4', '5']\n",
    "\n",
    "array_list = np.array(object=list)\n",
    "\n",
    "print(f\"Data type of list_: {type(list_)}\")\n",
    "\n",
    "print(f\"Data type of array_list: {array_list.dtype}\")"
   ]
  },
  {
   "cell_type": "code",
   "execution_count": null,
   "id": "61f38918-913d-4e3b-bc5b-57d7213d4aeb",
   "metadata": {},
   "outputs": [],
   "source": []
  },
  {
   "cell_type": "markdown",
   "id": "38ab34d9-9d5e-42db-8672-1ed797eb51bf",
   "metadata": {},
   "source": [
    "**Q2. Write a code to print the data type of each and every element of both the variables list_ and\n",
    "arra_list.**"
   ]
  },
  {
   "cell_type": "code",
   "execution_count": 10,
   "id": "fc121ac1-762b-4eba-835d-f0e67ef8c62a",
   "metadata": {},
   "outputs": [
    {
     "name": "stdout",
     "output_type": "stream",
     "text": [
      "Data types of elements in list_:\n",
      "Element: 1, Type: <class 'str'>\n",
      "Element: 2, Type: <class 'str'>\n",
      "Element: 3, Type: <class 'str'>\n",
      "Element: 4, Type: <class 'str'>\n",
      "Element: 5, Type: <class 'str'>\n",
      "\n",
      "Data types of elements in array_list:\n",
      "Element: 1, Type: <class 'numpy.str_'>\n",
      "Element: 2, Type: <class 'numpy.str_'>\n",
      "Element: 3, Type: <class 'numpy.str_'>\n",
      "Element: 4, Type: <class 'numpy.str_'>\n",
      "Element: 5, Type: <class 'numpy.str_'>\n"
     ]
    }
   ],
   "source": [
    "list_ = ['1', '2', '3', '4', '5']\n",
    "\n",
    "array_list = np.array(object=list_)\n",
    "\n",
    "print(\"Data types of elements in list_:\")\n",
    "for item in list_:\n",
    "    print(f\"Element: {item}, Type: {type(item)}\")\n",
    "\n",
    "print(\"\\nData types of elements in array_list:\")\n",
    "for item in array_list:\n",
    "    print(f\"Element: {item}, Type: {type(item)}\")"
   ]
  },
  {
   "cell_type": "code",
   "execution_count": null,
   "id": "dfcdfcc5-d20a-4677-a46a-6ad6e5ffba6d",
   "metadata": {},
   "outputs": [],
   "source": []
  },
  {
   "cell_type": "markdown",
   "id": "cd2814e6-1813-4e27-b31b-255c8f806310",
   "metadata": {},
   "source": [
    "**Q3. Considering the following changes in the variable, array_list:**\n",
    "\n",
    "**array_list = np.array(object = list_, dtype = int)**\n",
    "\n",
    "**Will there be any difference in the data type of the elements present in both the variables, list_ and\n",
    "arra_list? If so then print the data types of each and every element present in both the variables, list_\n",
    "and arra_list.**\n",
    "\n",
    "A3.\n",
    "\n",
    "Yes, there will be a difference in the data types of the elements when you modify the array_list with dtype=int. When you specify dtype=int for a NumPy array, it converts all elements to integers, whereas the original list_ contains strings."
   ]
  },
  {
   "cell_type": "code",
   "execution_count": 11,
   "id": "157e53da-1f3b-4c7e-baee-a3f18d7f1d05",
   "metadata": {},
   "outputs": [
    {
     "name": "stdout",
     "output_type": "stream",
     "text": [
      "Data types of elements in list_:\n",
      "Element: 1, Type: <class 'str'>\n",
      "Element: 2, Type: <class 'str'>\n",
      "Element: 3, Type: <class 'str'>\n",
      "Element: 4, Type: <class 'str'>\n",
      "Element: 5, Type: <class 'str'>\n",
      "\n",
      "Data types of elements in array_list:\n",
      "Element: 1, Type: <class 'numpy.int64'>\n",
      "Element: 2, Type: <class 'numpy.int64'>\n",
      "Element: 3, Type: <class 'numpy.int64'>\n",
      "Element: 4, Type: <class 'numpy.int64'>\n",
      "Element: 5, Type: <class 'numpy.int64'>\n"
     ]
    }
   ],
   "source": [
    "list_ = ['1', '2', '3', '4', '5']\n",
    "\n",
    "array_list = np.array(object=list_, dtype=int)\n",
    "\n",
    "print(\"Data types of elements in list_:\")\n",
    "for item in list_:\n",
    "    print(f\"Element: {item}, Type: {type(item)}\")\n",
    "\n",
    "print(\"\\nData types of elements in array_list:\")\n",
    "for item in array_list:\n",
    "    print(f\"Element: {item}, Type: {type(item)}\")"
   ]
  },
  {
   "cell_type": "code",
   "execution_count": null,
   "id": "afc60212-56d9-4f61-842d-ab0175d57a9c",
   "metadata": {},
   "outputs": [],
   "source": []
  },
  {
   "cell_type": "code",
   "execution_count": 12,
   "id": "dfdcd8bf-94a5-48ee-82ef-949de8bf069d",
   "metadata": {},
   "outputs": [],
   "source": [
    "# Consider the below code to answer further questions:\n",
    "import numpy as np\n",
    "num_list = [ [ 1 , 2 , 3 ] , [ 4 , 5 , 6 ] ]\n",
    "num_array = np.array(object = num_list)"
   ]
  },
  {
   "cell_type": "code",
   "execution_count": null,
   "id": "558fce47-14a8-4fba-a842-a382c495ad26",
   "metadata": {},
   "outputs": [],
   "source": []
  },
  {
   "cell_type": "code",
   "execution_count": 14,
   "id": "a761fdab-e6b1-4764-8c5f-635cfec6a773",
   "metadata": {},
   "outputs": [
    {
     "name": "stdout",
     "output_type": "stream",
     "text": [
      "Shape of the array:\n",
      "(2, 3)\n",
      "\n",
      "Size of the array:\n",
      "6\n"
     ]
    }
   ],
   "source": [
    "num_list = [[1, 2, 3], [4, 5, 6]]\n",
    "num_array = np.array(object=num_list)\n",
    "\n",
    "print(\"Shape of the array:\")\n",
    "print(num_array.shape)\n",
    "\n",
    "print(\"\\nSize of the array:\")\n",
    "print(num_array.size)"
   ]
  },
  {
   "cell_type": "code",
   "execution_count": null,
   "id": "cdb494c6-5004-4747-89eb-20293fd26d50",
   "metadata": {},
   "outputs": [],
   "source": []
  },
  {
   "cell_type": "markdown",
   "id": "83820961-3536-4508-a355-e21afc7eb8b6",
   "metadata": {},
   "source": [
    "**Q5. Write a code to create numpy array of 3*3 matrix containing zeros only, using a numpy array\n",
    "creation function.\n",
    "[Hint: The size of the array will be 9 and the shape will be (3,3).]**"
   ]
  },
  {
   "cell_type": "code",
   "execution_count": 15,
   "id": "5f66b4bd-2d06-4a95-999a-abfde9bec631",
   "metadata": {},
   "outputs": [
    {
     "name": "stdout",
     "output_type": "stream",
     "text": [
      "3x3 Matrix containing zeros:\n",
      "[[0. 0. 0.]\n",
      " [0. 0. 0.]\n",
      " [0. 0. 0.]]\n",
      "\n",
      "Shape of the array:\n",
      "(3, 3)\n",
      "\n",
      "Size of the array:\n",
      "9\n"
     ]
    }
   ],
   "source": [
    "zero_matrix = np.zeros((3, 3))\n",
    "\n",
    "print(\"3x3 Matrix containing zeros:\")\n",
    "print(zero_matrix)\n",
    "\n",
    "print(\"\\nShape of the array:\")\n",
    "print(zero_matrix.shape)\n",
    "\n",
    "print(\"\\nSize of the array:\")\n",
    "print(zero_matrix.size)"
   ]
  },
  {
   "cell_type": "code",
   "execution_count": null,
   "id": "8cc0d920-ff4d-4c58-9d4f-00971be39457",
   "metadata": {},
   "outputs": [],
   "source": []
  },
  {
   "cell_type": "markdown",
   "id": "05bcae2e-48f6-467c-a557-f2fdabbdec5f",
   "metadata": {},
   "source": [
    "**Q6. Create an identity matrix of shape (5,5) using numpy functions?\n",
    "[Hint: An identity matrix is a matrix containing 1 diagonally and other elements will be 0.]**"
   ]
  },
  {
   "cell_type": "code",
   "execution_count": 16,
   "id": "a955f761-bb84-45c4-ba41-985003a54485",
   "metadata": {},
   "outputs": [
    {
     "name": "stdout",
     "output_type": "stream",
     "text": [
      "5x5 Identity Matrix:\n",
      "[[1. 0. 0. 0. 0.]\n",
      " [0. 1. 0. 0. 0.]\n",
      " [0. 0. 1. 0. 0.]\n",
      " [0. 0. 0. 1. 0.]\n",
      " [0. 0. 0. 0. 1.]]\n",
      "\n",
      "Shape of the matrix:\n",
      "(5, 5)\n",
      "\n",
      "Size of the matrix:\n",
      "25\n"
     ]
    }
   ],
   "source": [
    "identity_matrix = np.eye(5)\n",
    "\n",
    "print(\"5x5 Identity Matrix:\")\n",
    "print(identity_matrix)\n",
    "\n",
    "print(\"\\nShape of the matrix:\")\n",
    "print(identity_matrix.shape)\n",
    "\n",
    "print(\"\\nSize of the matrix:\")\n",
    "print(identity_matrix.size)"
   ]
  },
  {
   "cell_type": "code",
   "execution_count": null,
   "id": "3187079e-9d3b-4833-b7f2-025c7ae9135b",
   "metadata": {},
   "outputs": [],
   "source": []
  },
  {
   "cell_type": "code",
   "execution_count": null,
   "id": "3f7d4066-93bc-41bf-9a54-cf528cd94575",
   "metadata": {},
   "outputs": [],
   "source": []
  }
 ],
 "metadata": {
  "kernelspec": {
   "display_name": "Python 3 (ipykernel)",
   "language": "python",
   "name": "python3"
  },
  "language_info": {
   "codemirror_mode": {
    "name": "ipython",
    "version": 3
   },
   "file_extension": ".py",
   "mimetype": "text/x-python",
   "name": "python",
   "nbconvert_exporter": "python",
   "pygments_lexer": "ipython3",
   "version": "3.12.5"
  }
 },
 "nbformat": 4,
 "nbformat_minor": 5
}
